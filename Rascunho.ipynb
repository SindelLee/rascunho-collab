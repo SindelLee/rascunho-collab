{
  "nbformat": 4,
  "nbformat_minor": 0,
  "metadata": {
    "colab": {
      "name": "Rascunho.ipynb",
      "provenance": [],
      "authorship_tag": "ABX9TyOwOnCLIyFDKUAzchuKSrZU",
      "include_colab_link": true
    },
    "kernelspec": {
      "name": "python3",
      "display_name": "Python 3"
    },
    "language_info": {
      "name": "python"
    }
  },
  "cells": [
    {
      "cell_type": "markdown",
      "metadata": {
        "id": "view-in-github",
        "colab_type": "text"
      },
      "source": [
        "<a href=\"https://colab.research.google.com/github/SindelLee/rascunho-collab/blob/main/Rascunho.ipynb\" target=\"_parent\"><img src=\"https://colab.research.google.com/assets/colab-badge.svg\" alt=\"Open In Colab\"/></a>"
      ]
    },
    {
      "cell_type": "code",
      "metadata": {
        "id": "uOE-LomDBCtc",
        "colab": {
          "base_uri": "https://localhost:8080/"
        },
        "outputId": "55b07594-7315-4b1e-e419-6cdd23e53bc2"
      },
      "source": [
        "while True: \n",
        "    n = input(\"Nome do atleta: \")\n",
        "    if n == \"\":\n",
        "        print(\"  CAMPO VAZIO  \")\n",
        "    else:\n",
        "      break\n",
        "lista_saltos = []\n",
        "maior = 0\n",
        "menor = 0\n",
        "for c in range(0, 5):\n",
        "  lista_saltos.append(float(input(\"Distância do salto em metros: \")))\n",
        "  if c == 0:\n",
        "    maior = menor = lista_saltos[c]\n",
        "  else:\n",
        "    if lista_saltos[c] > maior:\n",
        "      maior = lista_saltos[c]\n",
        "    if lista_saltos[c] < menor: \n",
        "      menor = lista_saltos[c]\n",
        "#print(f\"Primeiro salto: \", lista_saltos[0])\n",
        "#print(f\"Segundo salto:  \", lista_saltos[1])\n",
        "#print(f\"Terceiro salto:  \", lista_saltos[2])\n",
        "#print(f\"Quarto salto:  \", lista_saltos[3])\n",
        "#print(f\"Quinto salto:  \", lista_saltos[4])      \n",
        "sorted(lista_saltos, key=float)\n",
        "print(f\"\\n\\nMelhor salto: {maior} m\")\n",
        "print(f\"Pior salto: {menor} m\")"
      ],
      "execution_count": null,
      "outputs": [
        {
          "output_type": "stream",
          "text": [
            "Nome do atleta: \n",
            "  CAMPO VAZIO  \n",
            "Nome do atleta: Sindel Augusta Barros\n",
            "Distância do salto em metros: 1\n",
            "Distância do salto em metros: 2\n",
            "Distância do salto em metros: 3\n",
            "Distância do salto em metros: 4\n",
            "Distância do salto em metros: 5\n",
            "\n",
            "\n",
            "Melhor salto: 5.0 m\n",
            "Pior salto: 1.0 m\n"
          ],
          "name": "stdout"
        }
      ]
    },
    {
      "cell_type": "markdown",
      "metadata": {
        "id": "T6onMa5Vb3Oa"
      },
      "source": [
        "aaaaa\n"
      ]
    },
    {
      "cell_type": "code",
      "metadata": {
        "id": "INjsxKNJuaRW",
        "colab": {
          "base_uri": "https://localhost:8080/"
        },
        "outputId": "19b9ff9c-fa8e-40b4-f456-4a817bd04ed5"
      },
      "source": [
        "nmr = int(input(\"Digite um número menor que 1000: \"))\n",
        "unidade = nmr//1%10\n",
        "dezena = nmr//10%10\n",
        "centena = nmr//100%10\n",
        "print(\"centenas\", centena)\n",
        "print(\"dezenas\", dezena)\n",
        "print(\"unidade\", unidade)"
      ],
      "execution_count": null,
      "outputs": [
        {
          "output_type": "stream",
          "text": [
            "Digite um número menor que 1000: 6\n",
            "centenas 0\n",
            "dezenas 0\n",
            "unidade 6\n"
          ],
          "name": "stdout"
        }
      ]
    },
    {
      "cell_type": "code",
      "metadata": {
        "colab": {
          "base_uri": "https://localhost:8080/",
          "height": 384
        },
        "id": "cr6mScRw0kX2",
        "outputId": "6faa08ac-82ad-4a45-ab02-91f1fd5796de"
      },
      "source": [
        "caract=[]\n",
        "vogais=[\"a\",\"e\",\"i\",\"o\",\"u\"]\n",
        "contvogal = 0\n",
        "x = 1\n",
        "while x <= 10:\n",
        "    entrada = input(\"Caractere %d: \" %x)\n",
        "    x += 1\n",
        "    caract.append(entrada)\n",
        "    if entrada in vogais:\n",
        "        contvogal += 1\n",
        "#print (\"Consoantes: \",(len(caract))-contvogal) CORRIGIR\n",
        "#print(consoantes) TERMINAR"
      ],
      "execution_count": null,
      "outputs": [
        {
          "output_type": "stream",
          "text": [
            "Caractere 1: a\n",
            "Caractere 2: w\n",
            "Caractere 3: j\n",
            "Caractere 4: u\n",
            "Caractere 5: k\n",
            "Caractere 6: t\n",
            "Caractere 7: b\n",
            "Caractere 8: i\n",
            "Caractere 9: d\n",
            "Caractere 10: g\n",
            "Consoantes:  7\n"
          ],
          "name": "stdout"
        },
        {
          "output_type": "error",
          "ename": "NameError",
          "evalue": "ignored",
          "traceback": [
            "\u001b[0;31m---------------------------------------------------------------------------\u001b[0m",
            "\u001b[0;31mNameError\u001b[0m                                 Traceback (most recent call last)",
            "\u001b[0;32m<ipython-input-28-4105272cc88f>\u001b[0m in \u001b[0;36m<module>\u001b[0;34m()\u001b[0m\n\u001b[1;32m     10\u001b[0m         \u001b[0mcontvogal\u001b[0m \u001b[0;34m+=\u001b[0m \u001b[0;36m1\u001b[0m\u001b[0;34m\u001b[0m\u001b[0;34m\u001b[0m\u001b[0m\n\u001b[1;32m     11\u001b[0m \u001b[0mprint\u001b[0m \u001b[0;34m(\u001b[0m\u001b[0;34m\"Consoantes: \"\u001b[0m\u001b[0;34m,\u001b[0m\u001b[0;34m(\u001b[0m\u001b[0mlen\u001b[0m\u001b[0;34m(\u001b[0m\u001b[0mcaract\u001b[0m\u001b[0;34m)\u001b[0m\u001b[0;34m)\u001b[0m\u001b[0;34m-\u001b[0m\u001b[0mcontvogal\u001b[0m\u001b[0;34m)\u001b[0m\u001b[0;34m\u001b[0m\u001b[0;34m\u001b[0m\u001b[0m\n\u001b[0;32m---> 12\u001b[0;31m \u001b[0mprint\u001b[0m\u001b[0;34m(\u001b[0m\u001b[0mconsoantes\u001b[0m\u001b[0;34m)\u001b[0m\u001b[0;34m\u001b[0m\u001b[0;34m\u001b[0m\u001b[0m\n\u001b[0m",
            "\u001b[0;31mNameError\u001b[0m: name 'consoantes' is not defined"
          ]
        }
      ]
    },
    {
      "cell_type": "code",
      "metadata": {
        "id": "xD-Y7KQyyBEh",
        "colab": {
          "base_uri": "https://localhost:8080/"
        },
        "outputId": "2133d987-851b-4845-9c02-68ec30749357"
      },
      "source": [
        "comentario = 'Eu sou aluno da Fatec Rio Preto e, como aluno, estou focado nos estudos para me tornar o melhor profissional'\n",
        "stop_words = ('a', 'do', 'meu', 'de', 'no')\n",
        "lista_nova = []\n",
        "for palavra in comentario:\n",
        "  if palavra in stop_words:\n",
        "    lista_nova.append(palavra)\n",
        "  comentario = ' '.join(lista_nova)\n",
        "  print(lista_nova)"
      ],
      "execution_count": null,
      "outputs": [
        {
          "output_type": "stream",
          "text": [
            "[]\n",
            "[]\n",
            "[]\n",
            "[]\n",
            "[]\n",
            "[]\n",
            "[]\n",
            "['a']\n",
            "['a']\n",
            "['a']\n",
            "['a']\n",
            "['a']\n",
            "['a']\n",
            "['a']\n",
            "['a', 'a']\n",
            "['a', 'a']\n",
            "['a', 'a']\n",
            "['a', 'a', 'a']\n",
            "['a', 'a', 'a']\n",
            "['a', 'a', 'a']\n",
            "['a', 'a', 'a']\n",
            "['a', 'a', 'a']\n",
            "['a', 'a', 'a']\n",
            "['a', 'a', 'a']\n",
            "['a', 'a', 'a']\n",
            "['a', 'a', 'a']\n",
            "['a', 'a', 'a']\n",
            "['a', 'a', 'a']\n",
            "['a', 'a', 'a']\n",
            "['a', 'a', 'a']\n",
            "['a', 'a', 'a']\n",
            "['a', 'a', 'a']\n",
            "['a', 'a', 'a']\n",
            "['a', 'a', 'a']\n",
            "['a', 'a', 'a']\n",
            "['a', 'a', 'a']\n",
            "['a', 'a', 'a']\n",
            "['a', 'a', 'a']\n",
            "['a', 'a', 'a']\n",
            "['a', 'a', 'a']\n",
            "['a', 'a', 'a', 'a']\n",
            "['a', 'a', 'a', 'a']\n",
            "['a', 'a', 'a', 'a']\n",
            "['a', 'a', 'a', 'a']\n",
            "['a', 'a', 'a', 'a']\n",
            "['a', 'a', 'a', 'a']\n",
            "['a', 'a', 'a', 'a']\n",
            "['a', 'a', 'a', 'a']\n",
            "['a', 'a', 'a', 'a']\n",
            "['a', 'a', 'a', 'a']\n",
            "['a', 'a', 'a', 'a']\n",
            "['a', 'a', 'a', 'a']\n",
            "['a', 'a', 'a', 'a']\n",
            "['a', 'a', 'a', 'a']\n",
            "['a', 'a', 'a', 'a']\n",
            "['a', 'a', 'a', 'a']\n",
            "['a', 'a', 'a', 'a', 'a']\n",
            "['a', 'a', 'a', 'a', 'a']\n",
            "['a', 'a', 'a', 'a', 'a']\n",
            "['a', 'a', 'a', 'a', 'a']\n",
            "['a', 'a', 'a', 'a', 'a']\n",
            "['a', 'a', 'a', 'a', 'a']\n",
            "['a', 'a', 'a', 'a', 'a']\n",
            "['a', 'a', 'a', 'a', 'a']\n",
            "['a', 'a', 'a', 'a', 'a']\n",
            "['a', 'a', 'a', 'a', 'a']\n",
            "['a', 'a', 'a', 'a', 'a']\n",
            "['a', 'a', 'a', 'a', 'a']\n",
            "['a', 'a', 'a', 'a', 'a']\n",
            "['a', 'a', 'a', 'a', 'a']\n",
            "['a', 'a', 'a', 'a', 'a']\n",
            "['a', 'a', 'a', 'a', 'a']\n",
            "['a', 'a', 'a', 'a', 'a']\n",
            "['a', 'a', 'a', 'a', 'a', 'a']\n",
            "['a', 'a', 'a', 'a', 'a', 'a']\n",
            "['a', 'a', 'a', 'a', 'a', 'a', 'a']\n",
            "['a', 'a', 'a', 'a', 'a', 'a', 'a']\n",
            "['a', 'a', 'a', 'a', 'a', 'a', 'a']\n",
            "['a', 'a', 'a', 'a', 'a', 'a', 'a']\n",
            "['a', 'a', 'a', 'a', 'a', 'a', 'a']\n",
            "['a', 'a', 'a', 'a', 'a', 'a', 'a']\n",
            "['a', 'a', 'a', 'a', 'a', 'a', 'a']\n",
            "['a', 'a', 'a', 'a', 'a', 'a', 'a']\n",
            "['a', 'a', 'a', 'a', 'a', 'a', 'a']\n",
            "['a', 'a', 'a', 'a', 'a', 'a', 'a', 'a']\n",
            "['a', 'a', 'a', 'a', 'a', 'a', 'a', 'a']\n",
            "['a', 'a', 'a', 'a', 'a', 'a', 'a', 'a']\n",
            "['a', 'a', 'a', 'a', 'a', 'a', 'a', 'a']\n",
            "['a', 'a', 'a', 'a', 'a', 'a', 'a', 'a']\n",
            "['a', 'a', 'a', 'a', 'a', 'a', 'a', 'a']\n",
            "['a', 'a', 'a', 'a', 'a', 'a', 'a', 'a']\n",
            "['a', 'a', 'a', 'a', 'a', 'a', 'a', 'a']\n",
            "['a', 'a', 'a', 'a', 'a', 'a', 'a', 'a']\n",
            "['a', 'a', 'a', 'a', 'a', 'a', 'a', 'a']\n",
            "['a', 'a', 'a', 'a', 'a', 'a', 'a', 'a']\n",
            "['a', 'a', 'a', 'a', 'a', 'a', 'a', 'a']\n",
            "['a', 'a', 'a', 'a', 'a', 'a', 'a', 'a']\n",
            "['a', 'a', 'a', 'a', 'a', 'a', 'a', 'a']\n",
            "['a', 'a', 'a', 'a', 'a', 'a', 'a', 'a']\n",
            "['a', 'a', 'a', 'a', 'a', 'a', 'a', 'a']\n",
            "['a', 'a', 'a', 'a', 'a', 'a', 'a', 'a']\n",
            "['a', 'a', 'a', 'a', 'a', 'a', 'a', 'a']\n",
            "['a', 'a', 'a', 'a', 'a', 'a', 'a', 'a']\n",
            "['a', 'a', 'a', 'a', 'a', 'a', 'a', 'a']\n",
            "['a', 'a', 'a', 'a', 'a', 'a', 'a', 'a']\n",
            "['a', 'a', 'a', 'a', 'a', 'a', 'a', 'a']\n",
            "['a', 'a', 'a', 'a', 'a', 'a', 'a', 'a', 'a']\n",
            "['a', 'a', 'a', 'a', 'a', 'a', 'a', 'a', 'a']\n"
          ],
          "name": "stdout"
        }
      ]
    },
    {
      "cell_type": "code",
      "metadata": {
        "id": "ZTQh3o1K_XEj"
      },
      "source": [
        "print(\"Responda 1 para SIM  e  0 para Nâo\")\n",
        "res1 = int(input(\"Foi participativa nesse semestre? \"))\n",
        "res2 = int(input(\"Entregou todos os trabalhos? \"))\n",
        "res3 = int(input(\"Assistiu todas as aulas? \"))\n",
        "res4 = int(input(\"A Pronúncia melhorou? \"))\n",
        "res5 = int(input(\"Aprendeu expressões novas? \"))\n",
        "soma_respostas = res1 + res2 + res3 + res4 + res5 # soma o número de respostas\n",
        "if (soma_respostas < 2):\n",
        " print(\"\\033[1;32m \\n Infelizmente terá que apelar para a empatia, uma media de 4\")\n",
        "elif (soma_respostas == 2):\n",
        " print(\"\\033[34m \\n Passaria raspando uma media de 6\")\n",
        "elif (3 <= soma_respostas <= 4):\n",
        " print(\"\\033[35m \\n Se esforçou merece um media de 7\")\n",
        "elif (soma_respostas == 5):\n",
        " print(\"\\033[1;31m \\n meus parabéns fez o minimo, media de 10\")\n"
      ],
      "execution_count": null,
      "outputs": []
    },
    {
      "cell_type": "code",
      "metadata": {
        "id": "V7q-DO7g_oXQ",
        "colab": {
          "base_uri": "https://localhost:8080/"
        },
        "outputId": "d41312f0-95a7-4adf-ca14-744affa4b056"
      },
      "source": [
        "notas_sala = ()\n",
        "while True:\n",
        "  notas_sala = float(input(\"Digite a nota do aluno:\"))\n",
        "  resp = str(input(\"Deseja adicionar mais notas: [S/N] \"))\n",
        "  if resp in \"Nn\":\n",
        "    break\n",
        "  "
      ],
      "execution_count": null,
      "outputs": [
        {
          "output_type": "stream",
          "text": [
            "Digite a nota do aluno:100\n",
            "Deseja adicionar mais notas: [S/N] s\n",
            "Digite a nota do aluno:1000\n",
            "Deseja adicionar mais notas: [S/N] n\n"
          ],
          "name": "stdout"
        }
      ]
    },
    {
      "cell_type": "code",
      "metadata": {
        "colab": {
          "base_uri": "https://localhost:8080/"
        },
        "id": "q6wIJ8l2aJTA",
        "outputId": "a2121780-d04b-44a4-c763-f5063cfdc60d"
      },
      "source": [
        "import random\n",
        "\n",
        "tamanho_turma = int(input(\"Tamanho da turma: \"))\n",
        "notas_p1 = []\n",
        "notas_p2 = []\n",
        "\n",
        "for i in range(tamanho_turma):\n",
        "  notas_p1.append(round(random.uniform(0.0, 10.0), 2))\n",
        "  notas_p2.append(round(random.uniform(0.0, 10.0), 2))\n",
        "\n",
        "media_p1 = sum(notas_p1) / len(notas_p1)\n",
        "media_p2 = sum(notas_p2) / len(notas_p2)\n",
        "\n",
        "print(f\"Média da turma na prova 1: {media_p1:.2f}\")\n",
        "print(f\"Média da turma na prova 2: {media_p2:.2f}\")\n",
        "\n",
        "if media_p1 > media_p2:\n",
        "  print(\"A turma obteve a melhor média na prova 1.\")\n",
        "else:\n",
        "  print(\"A turma obteve a melhor média na prova 2.\")"
      ],
      "execution_count": null,
      "outputs": [
        {
          "output_type": "stream",
          "text": [
            "Tamanho da turma: 7\n",
            "Média da turma na prova 1: 4.10\n",
            "Média da turma na prova 2: 6.70\n",
            "A turma obteve a melhor média na prova 2.\n"
          ],
          "name": "stdout"
        }
      ]
    },
    {
      "cell_type": "code",
      "metadata": {
        "id": "s1C7lXtId68c"
      },
      "source": [
        "char = []\n",
        "consoantes = 0\n",
        "print (\"Digite os caracters\")\n",
        "for i in range(10):\n",
        "  char.append(input(f\"{char}(+){str(i+1)}  ':\\n\"))\n",
        "charR = char[i]\n",
        "if(charR not in ('a','e','i','o','u')):\n",
        "  print(consoantes)"
      ],
      "execution_count": null,
      "outputs": []
    },
    {
      "cell_type": "code",
      "metadata": {
        "id": "wvgpxWvmm4wS"
      },
      "source": [
        "Enquete: Quem foi o melhor jogador?\n",
        "Número_do_jogador (0=fim): 9\n",
        "Número_do_jogador (0=fim): 10\n",
        "Número_do_jogador (0=fim): 9\n",
        "Número_do_jogador (0=fim): 10\n",
        "Número_do_jogador (0=fim): 11\n",
        "Número_do_jogador (0=fim): 10\n",
        "Número_do_jogador (0=fim): 50\n",
        "input(\"Informe um valor entre 1 e 23 ou 0 para sair!\")\n",
        "Número_do_jogador (0=fim): 9\n",
        "Número_do_jogador (0=fim): 9\n",
        "Número_do_jogador (0=fim): 0\n"
      ],
      "execution_count": null,
      "outputs": []
    },
    {
      "cell_type": "code",
      "metadata": {
        "id": "cbUP36JZfuKq"
      },
      "source": [
        "# TELEFÉRICO\n",
        "Telef = int(input(\"Digite a quantidade máxima do teleférico: \")) #entrada de dados\n",
        "Alunos = int(input(\"Digite a quantidade de alunos (inclua os monitores): \"))  #entrada de dados\n",
        "\n",
        "divisao = Alunos/(Telef-1) #divisao qnt de alunos p/ capacidade teleférico\n",
        "resposta = divisao \n",
        "\n",
        "if divisao > 0:  # se a divisao der nmr 'quebrado' ent aumenta mais uma viagem\n",
        "   resposta += 1 \n",
        "print(f\" A menor quantidade de viagens é: {resposta: .0f}\") # escreve a resposta limitando a 0 nmrs depois da vírgula"
      ],
      "execution_count": null,
      "outputs": []
    },
    {
      "cell_type": "code",
      "metadata": {
        "id": "FuqREqiIlMPV"
      },
      "source": [
        "# TELEFÉRICO\n",
        "Telef = int(input(\"Digite a quantidade máxima do teleférico: \")) #entrada de dados\n",
        "Alunos = int(input(\"Digite a quantidade de alunos (inclua os monitores): \"))  #entrada de dados\n",
        "\n",
        "divisao = Alunos/(Telef) #divisao qnt de alunos p/ capacidade teleférico\n",
        "\n",
        "if divisao > 0:  # se a divisao der nmr 'quebrado' ent aumenta mais uma viagem\n",
        "   divisao += 1 \n",
        "print(f\" A menor quantidade de viagens é: {divisao: .0f}\") # escreve a resposta limitando a 0 nmrs depois da vírgula"
      ],
      "execution_count": null,
      "outputs": []
    },
    {
      "cell_type": "code",
      "metadata": {
        "id": "4wZZ-0PXnxBK"
      },
      "source": [
        "# PROVA ALZHEIMER\n",
        "p1 = float(input(\"Digite a sua nota conhecida: \")) #entrada de dados\n",
        "p2 = ()                                             # dado desconhecido\n",
        "media = float(input(\"Digite o valor da sua média: \")) #média conhecida\n",
        "p2 = (media*2) - p1                                    # conta para descobrir a nota esquecida\n",
        "print(f\" Sua nota esquecida é: {p2}\")"
      ],
      "execution_count": null,
      "outputs": []
    },
    {
      "cell_type": "code",
      "metadata": {
        "id": "ov2GJ5a_tVoV"
      },
      "source": [
        "# Copos de 290ml por dia em 24 hrs\n",
        "copos = int(input(\"Qual é o ml do seu copo? \"))\n",
        "dia = 24\n",
        "n = int(input(\"Quantos ml de água por dia você precisa beber? \"))\n",
        "copos_por_dia = n / copos\n",
        "print(f\"Quantidade de copos por dia {copos_por_dia:.0f} copos\")\n",
        "vzs_pra_beber_água = dia / copos_por_dia\n",
        "print(f\"Esse é o intervalo entre os copos por dia {vzs_pra_beber_água:.0f}hrs\")"
      ],
      "execution_count": null,
      "outputs": []
    }
  ]
}